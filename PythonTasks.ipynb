{
  "nbformat": 4,
  "nbformat_minor": 0,
  "metadata": {
    "colab": {
      "provenance": [],
      "authorship_tag": "ABX9TyMuuOAG7FTwuJyOS9cHE29p",
      "include_colab_link": true
    },
    "kernelspec": {
      "name": "python3",
      "display_name": "Python 3"
    },
    "language_info": {
      "name": "python"
    }
  },
  "cells": [
    {
      "cell_type": "markdown",
      "metadata": {
        "id": "view-in-github",
        "colab_type": "text"
      },
      "source": [
        "<a href=\"https://colab.research.google.com/github/AngelinaSankina/python-tasks/blob/main/PythonTasks.ipynb\" target=\"_parent\"><img src=\"https://colab.research.google.com/assets/colab-badge.svg\" alt=\"Open In Colab\"/></a>"
      ]
    },
    {
      "cell_type": "markdown",
      "source": [
        "1. Дополните приведенный код, чтобы он вывел наиболее часто встречающееся слово строки s. Если таких слов несколько, должно быть выведено то, что меньше в лексикографическом порядке."
      ],
      "metadata": {
        "id": "HUQexcUs41km"
      }
    },
    {
      "cell_type": "code",
      "execution_count": 1,
      "metadata": {
        "colab": {
          "base_uri": "https://localhost:8080/"
        },
        "id": "emCq1HkF4hNL",
        "outputId": "f0410b81-df21-4b10-cc38-e53f4d08cd2a"
      },
      "outputs": [
        {
          "output_type": "stream",
          "name": "stdout",
          "text": [
            "banana\n"
          ]
        }
      ],
      "source": [
        "line = 'orange strawberry barley gooseberry apple apricot barley currant orange melon pomegranate banana banana orange barley apricot plum grapefruit banana quince strawberry barley grapefruit banana grapes melon strawberry apricot currant currant gooseberry raspberry apricot currant orange lime quince grapefruit barley banana melon pomegranate barley banana orange barley apricot plum banana quince lime grapefruit strawberry gooseberry apple barley apricot currant orange melon pomegranate banana banana orange apricot barley plum banana grapefruit banana quince currant orange melon pomegranate barley plum banana quince barley lime grapefruit pomegranate barley'\n",
        "diction = {}\n",
        "line = line.split(' ')\n",
        "for word in line:\n",
        "    diction[word] = diction.get(word, 0) + 1\n",
        "\n",
        "diction_maximum = {}\n",
        "maximum = max(diction.values())\n",
        "\n",
        "for i in diction:\n",
        "    if maximum == diction[i]:\n",
        "        diction_maximum[i] = maximum\n",
        "print(sorted(diction_maximum)[0])\n"
      ]
    },
    {
      "cell_type": "markdown",
      "source": [
        "2. На вход программе подается строка текста. Напишите программу, которая выводит слово, которое встречается реже всего, без учета регистра. Если таких слов несколько, выведите то, которое меньше в лексикографическом порядке."
      ],
      "metadata": {
        "id": "o_LLIUyHEnQb"
      }
    },
    {
      "cell_type": "code",
      "source": [
        "lst = [word.strip('.,!?:;-') for word in input().lower().split()]\n",
        "diction = {}\n",
        "diction_minimum ={}\n",
        "for word in lst:\n",
        "    diction[word] = diction.get(word, 0)+1\n",
        "\n",
        "minimum = min(diction.values())\n",
        "for i in diction:\n",
        "    if minimum == diction[i]:\n",
        "        diction_minimum[i] = minimum\n",
        "print(sorted(diction_minimum)[0])\n"
      ],
      "metadata": {
        "id": "dpdH3tYJEnjP"
      },
      "execution_count": null,
      "outputs": []
    },
    {
      "cell_type": "markdown",
      "source": [
        "3. Вам доступен список pets, содержащий информацию о собаках и их владельцах.  Каждый элемент списка – это кортеж вида (кличка собаки, имя владельца, фамилия владельца, возраст владельца). Дополните приведенный код так, чтобы в переменной result хранился словарь, в котором для каждого владельца будут перечислены его собаки. Ключом словаря должен быть кортеж (имя, фамилия, возраст владельца), а значением – список кличек собак (сохранив исходный порядок следования)."
      ],
      "metadata": {
        "id": "JMSYtsfAJb-v"
      }
    },
    {
      "cell_type": "code",
      "source": [
        "pets = [('Hatiko', 'Parker', 'Wilson', 50),\n",
        "        ('Rusty', 'Josh', 'King', 25),\n",
        "        ('Fido', 'John', 'Smith', 28),\n",
        "        ('Butch', 'Jake', 'Smirnoff', 18),\n",
        "        ('Odi', 'Emma', 'Wright', 18),\n",
        "        ('Balto', 'Josh', 'King', 25),\n",
        "        ('Barry', 'Josh', 'King', 25),\n",
        "        ('Snape', 'Hannah', 'Taylor', 40),\n",
        "        ('Horry', 'Martha', 'Robinson', 73),\n",
        "        ('Giro', 'Alex', 'Martinez', 65),\n",
        "        ('Zooma', 'Simon', 'Nevel', 32),\n",
        "        ('Lassie', 'Josh', 'King', 25),\n",
        "        ('Chase', 'Martha', 'Robinson', 73),\n",
        "        ('Ace', 'Martha', 'Williams', 38),\n",
        "        ('Rocky', 'Simon', 'Nevel', 32)]\n",
        "\n",
        "# Create a dictionary where keys are (owner_firstname, owner_lastname, age) and values are lists of pet names\n",
        "result = {}\n",
        "\n",
        "for pet in pets:\n",
        "    pet_name = pet[0]\n",
        "    owner_info = pet[1:]  # Tuple (owner_firstname, owner_lastname, age)\n",
        "\n",
        "    if owner_info not in result:\n",
        "        result[owner_info] = [pet_name]\n",
        "    else:\n",
        "        result[owner_info].append(pet_name)\n",
        "print(result)"
      ],
      "metadata": {
        "colab": {
          "base_uri": "https://localhost:8080/"
        },
        "id": "_KnyEHq3Jt9O",
        "outputId": "1d5bf0bc-b025-4935-a5a8-a695876d9b85"
      },
      "execution_count": 5,
      "outputs": [
        {
          "output_type": "stream",
          "name": "stdout",
          "text": [
            "{('Parker', 'Wilson', 50): ['Hatiko'], ('Josh', 'King', 25): ['Rusty', 'Balto', 'Barry', 'Lassie'], ('John', 'Smith', 28): ['Fido'], ('Jake', 'Smirnoff', 18): ['Butch'], ('Emma', 'Wright', 18): ['Odi'], ('Hannah', 'Taylor', 40): ['Snape'], ('Martha', 'Robinson', 73): ['Horry', 'Chase'], ('Alex', 'Martinez', 65): ['Giro'], ('Simon', 'Nevel', 32): ['Zooma', 'Rocky'], ('Martha', 'Williams', 38): ['Ace']}\n"
          ]
        }
      ]
    }
  ]
}